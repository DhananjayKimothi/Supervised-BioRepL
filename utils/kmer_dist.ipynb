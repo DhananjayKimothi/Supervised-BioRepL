{
 "cells": [
  {
   "cell_type": "code",
   "execution_count": 78,
   "metadata": {},
   "outputs": [],
   "source": [
    "# python 2\n",
    "import os\n",
    "import pickle as pkl\n",
    "from numpy import random\n",
    "import numpy as np\n",
    "from Bio import SeqIO\n",
    "from collections import defaultdict\n",
    "import os\n",
    "from collections import defaultdict\n",
    "\n"
   ]
  },
  {
   "cell_type": "code",
   "execution_count": 96,
   "metadata": {},
   "outputs": [],
   "source": [
    "Amino_alphb = {'A': 0, 'C': 1, 'D': 2, 'E': 3, 'F': 4, 'G': 5, 'H': 6, 'I': 7, 'K': 8, 'L': 9, 'M': 10, 'N': 11,\n",
    "                   'P': 12, 'Q': 13, 'R': 14, 'S': 15, 'T': 16, 'V': 17, 'W': 18, 'Y': 19}\n",
    "\n",
    "def sequence_ids(file_):\n",
    "    '''\n",
    "    file_: the file to be processed\n",
    "    IdsL : list of sequence ids\n",
    "    '''\n",
    "    IdsL = []\n",
    "    file__ = open(file_,'r')\n",
    "    for line in file__:\n",
    "        if line[0] == '>':\n",
    "            line = line.replace('>', '')\n",
    "            line = line.replace('\\n','')\n",
    "            IdsL.append(line)\n",
    "    file__.close()\n",
    "    return IdsL\n",
    "\n",
    "\n",
    "def family_Sizes(IdsL):\n",
    "    family_dict = defaultdict(list)\n",
    "    family_sizes = []\n",
    "    for id in IdsL:\n",
    "#         print(id)\n",
    "        label = id.split('_')\n",
    "#         print(label)\n",
    "        label = int(label[2])\n",
    "        if label not in family_dict.keys():\n",
    "            family_dict[label] = 1\n",
    "        else:\n",
    "            family_dict[label] += 1\n",
    "    for key in sorted(family_dict.keys()):\n",
    "        family_sizes.append(family_dict[key])\n",
    "    return(family_sizes)\n",
    "\n",
    "\n",
    "\n",
    "def freq_vec(kmer_count,k):\n",
    "    seq_vec = np.zeros(20**k)\n",
    "    for kmer in sorted(kmer_count.keys()):\n",
    "        indx = cal_indx(kmer,k)\n",
    "        if indx <= 20**k:\n",
    "            seq_vec[indx] = kmer_count[kmer]\n",
    "    return list(seq_vec)\n",
    "\n",
    "def slices(seq,w_type = 'overlap',k = 3):\n",
    "    words = []\n",
    "    for i in range(0, len(seq) - k + 1):\n",
    "        words.append(seq[i:i + k])\n",
    "    return words\n",
    "\n",
    "def cal_indx(kmer,k):\n",
    "    \"\"\"\n",
    "    :param kmer:\n",
    "    :return: indx of kmer in the dictionary\n",
    "    \"\"\"\n",
    "    # if amino select C = 20, if DNA selct D = 4\n",
    "    weight = []\n",
    "    C = 20\n",
    "    indx = 0\n",
    "    for i in range(len(kmer)):\n",
    "        weight.append(C**i)\n",
    "    weight.reverse()\n",
    "    if len(kmer) == k:\n",
    "        for i in range(len(kmer)):\n",
    "            if kmer[i] not in Amino_alphb.keys():\n",
    "                indx = (C**k)+1\n",
    "                break\n",
    "            else:\n",
    "                indx = indx + Amino_alphb[kmer[i]]*weight[i]\n",
    "        return indx\n",
    "    else:\n",
    "        print(\"kmer size and the kmer mismatch\")\n",
    "\n",
    "def freq(SeqDict,IdsL,k = 3):\n",
    "    seq_vectors = []\n",
    "    for key in IdsL:\n",
    "        seq_record = SeqDict[key]\n",
    "        seq = str(seq_record.seq)\n",
    "        \n",
    "        kmer_list = slices(seq, w_type = 'overlap',k = 3)\n",
    "        kmer_count = defaultdict(int)  # dict; keys kmer, value --frequency\n",
    "        for kmer in kmer_list:\n",
    "            if kmer not in kmer_count:\n",
    "                kmer_count[kmer] = 1.0\n",
    "            else:\n",
    "                kmer_count[kmer] = kmer_count[kmer] + 1.0\n",
    "        seq_vec = freq_vec(kmer_count,k)\n",
    "        seq_vectors.append(seq_vec)\n",
    "    return(seq_vectors)        "
   ]
  },
  {
   "cell_type": "code",
   "execution_count": 100,
   "metadata": {},
   "outputs": [
    {
     "name": "stdout",
     "output_type": "stream",
     "text": [
      "(3360L, 8000L)\n"
     ]
    }
   ],
   "source": [
    "path = \"C:\\Users\\Dhananjay\\Desktop\\Review_PlosOne\\Test\"\n",
    "filename = os.path.join(path,\"T0.fasta\")\n",
    "SeqDict = SeqIO.to_dict(SeqIO.parse(filename, \"fasta\"))  # dictonary: keys as fasta ids\n",
    "IdsL = sequence_ids(file)\n",
    "seq_vectors = freq(SeqDict,IdsL,k = 3)\n",
    "seq_vectors = np.asarray(seq_vectors)\n",
    "print(np.shape(seq_vectors))\n"
   ]
  },
  {
   "cell_type": "code",
   "execution_count": 159,
   "metadata": {},
   "outputs": [],
   "source": [
    "family_sizes = family_Sizes(IdsL)\n",
    "class1 = seq_vectors[0:family_sizes[0]]\n",
    "class2 = seq_vectors[family_sizes[0]:family_sizes[0]+family_sizes[1]]"
   ]
  },
  {
   "cell_type": "code",
   "execution_count": 186,
   "metadata": {},
   "outputs": [
    {
     "name": "stdout",
     "output_type": "stream",
     "text": [
      "[0. 0. 0. ... 0. 0. 0.]\n"
     ]
    },
    {
     "data": {
      "text/plain": [
       "[<matplotlib.lines.Line2D at 0x5c649fd0>]"
      ]
     },
     "execution_count": 186,
     "metadata": {},
     "output_type": "execute_result"
    },
    {
     "data": {
      "image/png": "[encoded data removed]",
      "text/plain": [
       "<Figure size 432x288 with 1 Axes>"
      ]
     },
     "metadata": {},
     "output_type": "display_data"
    }
   ],
   "source": [
    "from matplotlib import pyplot as plt \n",
    "print(class1[0])\n",
    "plt.plot(class1[18])\n",
    "# plt.hist(a, bins = 200)"
   ]
  },
  {
   "cell_type": "code",
   "execution_count": 148,
   "metadata": {},
   "outputs": [
    {
     "data": {
      "image/png": "[encoded data removed]",
      "text/plain": [
       "<Figure size 432x288 with 1 Axes>"
      ]
     },
     "metadata": {},
     "output_type": "display_data"
    }
   ],
   "source": [
    "plt.plot(class2)\n",
    "plt.show()"
   ]
  },
  {
   "cell_type": "code",
   "execution_count": 140,
   "metadata": {},
   "outputs": [
    {
     "data": {
      "text/plain": [
       "(array([3., 0., 0., 0., 0., 2., 0., 0., 0., 4.]),\n",
       " array([1. , 1.2, 1.4, 1.6, 1.8, 2. , 2.2, 2.4, 2.6, 2.8, 3. ]),\n",
       " <a list of 10 Patch objects>)"
      ]
     },
     "execution_count": 140,
     "metadata": {},
     "output_type": "execute_result"
    },
    {
     "data": {
      "image/png": "[encoded data removed]",
      "text/plain": [
       "<Figure size 432x288 with 1 Axes>"
      ]
     },
     "metadata": {},
     "output_type": "display_data"
    }
   ],
   "source": [
    "a = np.asarray([1,1,1,2,2,3,3,3,3])\n",
    "np.histogram(a,bins=5)\n",
    "plt.hist(a)"
   ]
  }
 ],
 "metadata": {
  "kernelspec": {
   "display_name": "Python 2",
   "language": "python",
   "name": "python2"
  },
  "language_info": {
   "codemirror_mode": {
    "name": "ipython",
    "version": 2
   },
   "file_extension": ".py",
   "mimetype": "text/x-python",
   "name": "python",
   "nbconvert_exporter": "python",
   "pygments_lexer": "ipython2",
   "version": "2.7.15"
  }
 },
 "nbformat": 4,
 "nbformat_minor": 2
}
