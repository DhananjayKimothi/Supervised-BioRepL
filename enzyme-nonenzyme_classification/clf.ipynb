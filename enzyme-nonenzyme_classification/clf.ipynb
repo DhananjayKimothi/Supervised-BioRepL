{
 "cells": [
  {
   "cell_type": "code",
   "execution_count": 109,
   "metadata": {},
   "outputs": [
    {
     "ename": "ImportError",
     "evalue": "No module named statistics",
     "output_type": "error",
     "traceback": [
      "\u001b[1;31m---------------------------------------------------------------------------\u001b[0m",
      "\u001b[1;31mImportError\u001b[0m                               Traceback (most recent call last)",
      "\u001b[1;32m<ipython-input-109-750662af7dd9>\u001b[0m in \u001b[0;36m<module>\u001b[1;34m()\u001b[0m\n\u001b[0;32m      5\u001b[0m \u001b[1;32mfrom\u001b[0m \u001b[0msklearn\u001b[0m\u001b[1;33m.\u001b[0m\u001b[0mmetrics\u001b[0m \u001b[1;32mimport\u001b[0m \u001b[0mroc_curve\u001b[0m\u001b[1;33m,\u001b[0m \u001b[0mauc\u001b[0m\u001b[1;33m,\u001b[0m \u001b[0maccuracy_score\u001b[0m\u001b[1;33m,\u001b[0m \u001b[0mprecision_score\u001b[0m\u001b[1;33m,\u001b[0m \u001b[0mf1_score\u001b[0m\u001b[1;33m,\u001b[0m \u001b[0mrecall_score\u001b[0m\u001b[1;33m,\u001b[0m \u001b[0mclassification_report\u001b[0m\u001b[1;33m\u001b[0m\u001b[0m\n\u001b[0;32m      6\u001b[0m \u001b[1;32mimport\u001b[0m \u001b[0mmatplotlib\u001b[0m\u001b[1;33m.\u001b[0m\u001b[0mpyplot\u001b[0m \u001b[1;32mas\u001b[0m \u001b[0mplt\u001b[0m\u001b[1;33m\u001b[0m\u001b[0m\n\u001b[1;32m----> 7\u001b[1;33m \u001b[1;32mfrom\u001b[0m \u001b[0mstatistics\u001b[0m \u001b[1;32mimport\u001b[0m \u001b[0mmean\u001b[0m\u001b[1;33m\u001b[0m\u001b[0m\n\u001b[0m",
      "\u001b[1;31mImportError\u001b[0m: No module named statistics"
     ]
    }
   ],
   "source": [
    "import pickle\n",
    "import os\n",
    "import numpy as np\n",
    "from sklearn.ensemble import RandomForestClassifier\n",
    "from sklearn.metrics import roc_curve, auc, accuracy_score, precision_score, f1_score, recall_score, classification_report\n",
    "import matplotlib.pyplot as plt\n",
    "from statistics import mean"
   ]
  },
  {
   "cell_type": "code",
   "execution_count": 95,
   "metadata": {},
   "outputs": [],
   "source": [
    "def load_data(path,file):   \n",
    "    file_ = os.path.join(path,file)\n",
    "    with open(file_, 'rb') as f:\n",
    "        train_data = pkl.load(f)\n",
    "    X = train_data['sequence_vectors']\n",
    "    X = np.asarray(X)\n",
    "    family_sizes = train_data['family_sizes']\n",
    "    y = np.concatenate((np.zeros(family_sizes[0]),np.ones(family_sizes[1])))   \n",
    "    return X, y\n"
   ]
  },
  {
   "cell_type": "code",
   "execution_count": 105,
   "metadata": {},
   "outputs": [],
   "source": [
    "def compute_perferomance_measures(y_test,y_pred):\n",
    "    acc = accuracy_score(y_test,y_pred)\n",
    "    precision_macro = precision_score(y_test, y_pred, average='macro')\n",
    "    f1_s = f1_score(y_test, y_pred, average='macro')\n",
    "    recall_macro = recall_score(y_test, y_pred, average='macro')\n",
    "    return(round(acc,2),round(precision_macro,2), round(recall_macro,2), round(f1_s,2))\n",
    "#     print(classification_report(y_test, y_pred, target_names = ['non-enzyme','enzyme']))"
   ]
  },
  {
   "cell_type": "code",
   "execution_count": null,
   "metadata": {},
   "outputs": [],
   "source": [
    "clf = RandomForestClassifier(n_estimators=300 ,random_state=0)\n",
    "path = \"C:\\Users\\Dhananjay\\Desktop\\Review_PlosOne\\enzyme-nonenzyme\\Crossvalidation\\suv\"\n",
    "accL = []\n",
    "precisionL = []\n",
    "recallL = []\n",
    "f1L = []\n",
    "for i in range(0,5):\n",
    "    X_train, y_train = load_data(path,\"Train\"+str(i)+\"_infr.pkl\")\n",
    "    clf.fit(X_train, y_train)\n",
    "    X_test, y_test = load_data(path,\"Tst\"+str(i)+\"_infr.pkl\")\n",
    "    y_pred = clf.predict(X_test)\n",
    "    acc, precision, recall, f1 =compute_perferomance_measures(y_test,y_pred)\n",
    "    accL.append(acc); precisionL.append(precision); recallL.append(recall); f1L.append(f1)\n",
    "accL, precisionL, recallL, f1L = np.asarray(accL), np.asarray(precisionL), np.asarray(recallL), np.asarray(f1L)  \n",
    "precision_mean, recall_mean, f1_mean = np.mean(precisionL), np.mean(recallL),  np.mean(f1L)    \n",
    "precision_std, recall_std, f1_std = round(np.std(precisionL),3), round(np.std(recallL),3),  round(np.std(f1L),3)  \n",
    "\n",
    "print(\"precision\", (precision_mean, precision_std))\n",
    "print(\"recall\", (recall_mean, recall_std))\n",
    "print(\"f1\", (f1_mean, f1_std))\n",
    "\n"
   ]
  }
 ],
 "metadata": {
  "kernelspec": {
   "display_name": "Python 2",
   "language": "python",
   "name": "python2"
  },
  "language_info": {
   "codemirror_mode": {
    "name": "ipython",
    "version": 2
   },
   "file_extension": ".py",
   "mimetype": "text/x-python",
   "name": "python",
   "nbconvert_exporter": "python",
   "pygments_lexer": "ipython2",
   "version": "2.7.15"
  }
 },
 "nbformat": 4,
 "nbformat_minor": 2
}
